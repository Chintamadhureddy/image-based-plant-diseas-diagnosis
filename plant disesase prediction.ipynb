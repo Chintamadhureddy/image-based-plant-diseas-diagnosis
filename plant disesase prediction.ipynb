{
 "cells": [
  {
   "cell_type": "code",
   "execution_count": 1,
   "id": "e11b6501",
   "metadata": {},
   "outputs": [],
   "source": [
    "from numpy import *\n",
    "import tensorflow as tf\n",
    "from os import *\n",
    "from sklearn.model_selection import train_test_split\n",
    "from keras.utils import *"
   ]
  },
  {
   "cell_type": "code",
   "execution_count": 2,
   "id": "d147408f",
   "metadata": {},
   "outputs": [],
   "source": [
    "data={}\n",
    "label={}"
   ]
  },
  {
   "cell_type": "code",
   "execution_count": 3,
   "id": "404773e6",
   "metadata": {},
   "outputs": [],
   "source": [
    "dir1=listdir('Downloads/PlantDiseasesDataset')"
   ]
  },
  {
   "cell_type": "code",
   "execution_count": 4,
   "id": "590579fc",
   "metadata": {},
   "outputs": [
    {
     "name": "stdout",
     "output_type": "stream",
     "text": [
      "Apple Black rot:3105\n",
      "Apple Healthy:4234\n",
      "Apple Scab:3232\n",
      "Cedar apple rust:2553\n",
      "---------------\n",
      "Bell pepper Bacterial spot:3449\n",
      "Bell pepper Healthy:4014\n",
      "---------------\n",
      "Cherry Healthy:3182\n",
      "Cherry Powdery mildew:3156\n",
      "---------------\n",
      "Citrus Black spot:312\n",
      "Citrus canker:368\n",
      "Citrus greening:5787\n",
      "Citrus Healthy:87\n",
      "---------------\n",
      "Corn Common rust:3682\n",
      "Corn Gray leaf spot:2629\n",
      "Corn Healthy:3486\n",
      "Corn Northern Leaf Blight:3548\n",
      "---------------\n",
      "Grape Black Measles:3783\n",
      "Grape Black rot:3596\n",
      "Grape Healthy:2594\n",
      "Grape Isariopsis Leaf Spot:3228\n",
      "---------------\n",
      "Peach Bacterial spot:4594\n",
      "Peach Healthy:2623\n",
      "---------------\n",
      "Strawberry Healthy:2819\n",
      "Strawberry Leaf scorch:3327\n",
      "---------------\n"
     ]
    }
   ],
   "source": [
    "for i in dir1:\n",
    "    c='Downloads/PlantDiseasesDataset/'+i+'/train/'\n",
    "    for j in listdir(c):\n",
    "        d=c+j+'/'\n",
    "        print(j+':'+str(len(listdir(d))))\n",
    "    print('---------------')"
   ]
  },
  {
   "cell_type": "code",
   "execution_count": null,
   "id": "49c46fb1",
   "metadata": {},
   "outputs": [],
   "source": [
    "for i in dir1:\n",
    "    c='Downloads/PlantDiseasesDataset/'+i+'/train'\n",
    "    data[i]=[]\n",
    "    label[i]=[]\n",
    "    f=listdir(c)\n",
    "    for j in range(len(f)):\n",
    "        d=c+'/'+f[j]+'/'\n",
    "        for k in listdir(d)[:700]:\n",
    "            img=load_img(d+k,target_size=(100,100))\n",
    "            data[i].append(img_to_array(img))\n",
    "            label[i].append(j)"
   ]
  },
  {
   "cell_type": "code",
   "execution_count": null,
   "id": "5b10e311",
   "metadata": {},
   "outputs": [],
   "source": [
    "data.keys()"
   ]
  },
  {
   "cell_type": "code",
   "execution_count": null,
   "id": "a4bf6b81",
   "metadata": {},
   "outputs": [],
   "source": [
    "label.keys()"
   ]
  },
  {
   "cell_type": "code",
   "execution_count": null,
   "id": "050bc758",
   "metadata": {},
   "outputs": [],
   "source": [
    "for i in dir1:\n",
    "    c='Downloads/PlantDiseasesDataset/'+i+'/train'\n",
    "    l=0\n",
    "    for j in listdir(c):\n",
    "        d=c+'/'+j+'/'\n",
    "        l=l+len(listdir(d))\n",
    "    print(i+':'+str(l))\n",
    "    print('---------------')"
   ]
  },
  {
   "cell_type": "code",
   "execution_count": null,
   "id": "0b5f893c",
   "metadata": {},
   "outputs": [],
   "source": [
    "for i in label.keys():\n",
    "    print(str(i)+':'+str(len(label[i])))"
   ]
  },
  {
   "cell_type": "code",
   "execution_count": null,
   "id": "c9d8ab5a",
   "metadata": {},
   "outputs": [],
   "source": [
    "for i in data.keys():\n",
    "    data[i]=array(data[i])"
   ]
  },
  {
   "cell_type": "code",
   "execution_count": null,
   "id": "61528cce",
   "metadata": {},
   "outputs": [],
   "source": [
    "data"
   ]
  },
  {
   "cell_type": "code",
   "execution_count": null,
   "id": "85596de3",
   "metadata": {},
   "outputs": [],
   "source": [
    "label"
   ]
  },
  {
   "cell_type": "code",
   "execution_count": null,
   "id": "7f3aab2d",
   "metadata": {},
   "outputs": [],
   "source": [
    "for i in data.keys():\n",
    "    data[i]=data[i]/255"
   ]
  },
  {
   "cell_type": "code",
   "execution_count": null,
   "id": "048a68b1",
   "metadata": {},
   "outputs": [],
   "source": [
    "import matplotlib.pyplot as plt\n",
    "for i in data.keys():\n",
    "    c=len(data[i][0])\n",
    "    d=0\n",
    "    for j in range(c):\n",
    "        try:\n",
    "            plt.imshow(data[i][d])\n",
    "            plt.show()\n",
    "        except:\n",
    "            pass\n",
    "        \n",
    "        d=d+699"
   ]
  },
  {
   "cell_type": "code",
   "execution_count": null,
   "id": "3c951b49",
   "metadata": {},
   "outputs": [],
   "source": [
    "data"
   ]
  },
  {
   "cell_type": "code",
   "execution_count": null,
   "id": "350988fc",
   "metadata": {},
   "outputs": [],
   "source": [
    "x_train={}\n",
    "y_train={}\n",
    "x_test={}\n",
    "y_test={}\n",
    "for i in data.keys():\n",
    "    x_train[i],x_test[i],y_train[i],y_test[i]=train_test_split(data[i],label[i],stratify=label[i],test_size=0.2)"
   ]
  },
  {
   "cell_type": "code",
   "execution_count": null,
   "id": "9056c178",
   "metadata": {},
   "outputs": [],
   "source": [
    "for i in label.keys():\n",
    "    y_train[i]=to_categorical(y_train[i])"
   ]
  },
  {
   "cell_type": "code",
   "execution_count": null,
   "id": "e1a72485",
   "metadata": {},
   "outputs": [],
   "source": [
    "y_train"
   ]
  },
  {
   "cell_type": "code",
   "execution_count": null,
   "id": "01cec4d2",
   "metadata": {},
   "outputs": [],
   "source": [
    "history={}"
   ]
  },
  {
   "cell_type": "code",
   "execution_count": null,
   "id": "df8c8545",
   "metadata": {},
   "outputs": [],
   "source": [
    "import warnings\n",
    "warnings.filterwarnings(\"ignore\")\n",
    "import tensorflow as tf\n",
    "from sklearn.metrics import precision_score, accuracy_score, recall_score, confusion_matrix, ConfusionMatrixDisplay\n",
    "from tensorflow import keras"
   ]
  },
  {
   "cell_type": "code",
   "execution_count": null,
   "id": "696af938",
   "metadata": {},
   "outputs": [],
   "source": [
    "def train(i,x_train1,y_train1):\n",
    "    d=2\n",
    "    if i=='Apple' or i=='Corn' or i=='Grape':\n",
    "        d=4\n",
    "    model = keras.Sequential()\n",
    "    model.add(keras.layers.Conv2D(32,(3,3),activation=\"relu\",padding=\"same\",input_shape=(100,100,3)))\n",
    "    model.add(keras.layers.Conv2D(32,(3,3),activation=\"relu\",padding=\"same\"))\n",
    "    model.add(keras.layers.MaxPooling2D(3,3))\n",
    "    model.add(keras.layers.Conv2D(64,(3,3),activation=\"relu\",padding=\"same\"))\n",
    "    model.add(keras.layers.Conv2D(64,(3,3),activation=\"relu\",padding=\"same\"))\n",
    "    model.add(keras.layers.MaxPooling2D(3,3))\n",
    "    model.add(keras.layers.Conv2D(128,(3,3),activation=\"relu\",padding=\"same\"))\n",
    "    model.add(keras.layers.MaxPooling2D(3,3))\n",
    "    model.add(keras.layers.Flatten())\n",
    "    model.add(keras.layers.Dense(1568,activation=\"relu\"))\n",
    "    model.add(keras.layers.Dropout(0.5))\n",
    "    model.add(keras.layers.Dense(d,activation=\"softmax\"))\n",
    "    opt = keras.optimizers.Adam(learning_rate=0.001)\n",
    "    model.compile(optimizer=opt,loss=\"categorical_crossentropy\",metrics=['accuracy'])\n",
    "    print('model for '+i+':')\n",
    "    history[i]=model.fit(x_train1,y_train1,epochs=10)\n",
    "    model.save(i)\n",
    "    print('---------------------------------------------------------')"
   ]
  },
  {
   "cell_type": "code",
   "execution_count": null,
   "id": "f559753f",
   "metadata": {},
   "outputs": [],
   "source": [
    "import visualkeras"
   ]
  },
  {
   "cell_type": "code",
   "execution_count": null,
   "id": "52c91219",
   "metadata": {},
   "outputs": [],
   "source": [
    "model = keras.Sequential()\n",
    "model.add(keras.layers.Conv2D(32,(3,3),activation=\"relu\",padding=\"same\",input_shape=(100,100,3)))\n",
    "model.add(keras.layers.Conv2D(32,(3,3),activation=\"relu\",padding=\"same\"))\n",
    "model.add(keras.layers.MaxPooling2D(3,3))\n",
    "model.add(keras.layers.Conv2D(64,(3,3),activation=\"relu\",padding=\"same\"))\n",
    "model.add(keras.layers.Conv2D(64,(3,3),activation=\"relu\",padding=\"same\"))\n",
    "model.add(keras.layers.MaxPooling2D(3,3))\n",
    "model.add(keras.layers.Conv2D(128,(3,3),activation=\"relu\",padding=\"same\"))\n",
    "model.add(keras.layers.MaxPooling2D(3,3))\n",
    "model.add(keras.layers.Flatten())\n",
    "model.add(keras.layers.Dense(1568,activation=\"relu\"))\n",
    "model.add(keras.layers.Dropout(0.5))\n",
    "model.add(keras.layers.Dense(d,activation=\"softmax\"))\n",
    "opt = keras.optimizers.Adam(learning_rate=0.001)\n",
    "model.compile(optimizer=opt,loss=\"categorical_crossentropy\",metrics=['accuracy'])"
   ]
  },
  {
   "cell_type": "code",
   "execution_count": null,
   "id": "267a4763",
   "metadata": {},
   "outputs": [],
   "source": [
    "model.summary()"
   ]
  },
  {
   "cell_type": "code",
   "execution_count": null,
   "id": "206a4c40",
   "metadata": {},
   "outputs": [],
   "source": [
    "visualkeras.layered_view(model)"
   ]
  },
  {
   "cell_type": "code",
   "execution_count": null,
   "id": "ff714f41",
   "metadata": {
    "scrolled": true
   },
   "outputs": [],
   "source": [
    "for i in data.keys():\n",
    "    train(i,x_train[i],y_train[i])  "
   ]
  },
  {
   "cell_type": "code",
   "execution_count": null,
   "id": "e7b1d793",
   "metadata": {},
   "outputs": [],
   "source": [
    "history   "
   ]
  },
  {
   "cell_type": "code",
   "execution_count": null,
   "id": "14c901d4",
   "metadata": {},
   "outputs": [],
   "source": [
    "print('accuracy:')\n",
    "for i in data.keys():  \n",
    "    print(i+':'+str(history[i].history['accuracy']))"
   ]
  },
  {
   "cell_type": "code",
   "execution_count": null,
   "id": "f3ef3e09",
   "metadata": {},
   "outputs": [],
   "source": [
    "print('loss:')\n",
    "for i in data.keys():\n",
    "    print(i+':'+str(history[i].history['loss']))    "
   ]
  },
  {
   "cell_type": "code",
   "execution_count": null,
   "id": "e6617441",
   "metadata": {},
   "outputs": [],
   "source": [
    "x=[i for i in range(1,11)]\n",
    "for i in data.keys():\n",
    "    plt.plot(x,history[i].history['loss'])   \n",
    "    plt.xlabel('epchos')\n",
    "    plt.ylabel('loss')\n",
    "    plt.legend(i)"
   ]
  },
  {
   "cell_type": "code",
   "execution_count": null,
   "id": "b05dd462",
   "metadata": {},
   "outputs": [],
   "source": [
    "for i in data.keys():\n",
    "    plt.plot(x,history[i].history['accuracy'])\n",
    "    plt.xlabel('epchos')\n",
    "    plt.ylabel('accuracy')     \n",
    "    plt.legend(i)"
   ]
  },
  {
   "cell_type": "code",
   "execution_count": null,
   "id": "20412bf9",
   "metadata": {},
   "outputs": [],
   "source": [
    "for i in data.keys():\n",
    "    model = tf.keras.models.load_model(i)\n",
    "    evaluation= model.evaluate(x_test[i],to_categorical(y_test[i]), verbose = 0) \n",
    "    print(f'Model {i}: Loss = {evaluation[0]}, Accuracy = {evaluation[1]}')   "
   ]
  },
  {
   "cell_type": "code",
   "execution_count": null,
   "id": "441875a8",
   "metadata": {},
   "outputs": [],
   "source": [
    "from tensorflow.keras.applications import ResNet50\n",
    "from tensorflow.keras.models import Model\n",
    "from tensorflow.keras.applications.mobilenet import preprocess_input\n",
    "from tensorflow.keras.layers import Dense, GlobalAveragePooling2D"
   ]
  },
  {
   "cell_type": "code",
   "execution_count": null,
   "id": "b01c26b0",
   "metadata": {},
   "outputs": [],
   "source": [
    "history2={}"
   ]
  },
  {
   "cell_type": "code",
   "execution_count": null,
   "id": "dc0cb752",
   "metadata": {},
   "outputs": [],
   "source": [
    "def train1(i,x_train1,y_train1):\n",
    "    d=2\n",
    "    if i=='Apple' or i=='Corn' or i=='Grape':\n",
    "        d=4\n",
    "    base_model = ResNet50(weights='imagenet', include_top=False, input_shape=(100,100,3))\n",
    "    x = base_model.output\n",
    "    x = GlobalAveragePooling2D()(x)\n",
    "    x = Dense(1024, activation='relu')(x)\n",
    "    x = Dense(1024, activation='relu')(x)\n",
    "    x = Dense(512, activation='relu')(x)\n",
    "    preds = Dense(d, activation='softmax')(x)\n",
    "    model = Model(inputs=base_model.input, outputs=preds)\n",
    "    for layer in model.layers:\n",
    "        layer.trainable = False\n",
    "    for layer in model.layers[-20:]:\n",
    "        layer.trainable = True\n",
    "        opt = keras.optimizers.Adam(learning_rate=0.001)\n",
    "    model.compile(optimizer='Adam',loss=\"categorical_crossentropy\",metrics=['accuracy'])\n",
    "    print('model for '+i+':')\n",
    "    history2[i]=model.fit(x_train1,y_train1,epochs=10)\n",
    "    model.save(i+'2')\n",
    "    print('---------------------------------------------------------')"
   ]
  },
  {
   "cell_type": "code",
   "execution_count": null,
   "id": "317c6e48",
   "metadata": {
    "scrolled": true
   },
   "outputs": [],
   "source": [
    "for i in data.keys():\n",
    "    train1(i,x_train[i],y_train[i])  "
   ]
  },
  {
   "cell_type": "code",
   "execution_count": null,
   "id": "679df127",
   "metadata": {},
   "outputs": [],
   "source": [
    "print('accuracy:')\n",
    "for i in data.keys(): \n",
    "    print(i+':'+str(history2[i].history['accuracy']))"
   ]
  },
  {
   "cell_type": "code",
   "execution_count": null,
   "id": "0b6c7788",
   "metadata": {},
   "outputs": [],
   "source": [
    "print('loss:')\n",
    "for i in data.keys():\n",
    "    print(i+':'+str(history2[i].history['loss'])) "
   ]
  },
  {
   "cell_type": "code",
   "execution_count": null,
   "id": "fbf2c447",
   "metadata": {},
   "outputs": [],
   "source": [
    "x=[i for i in range(1,11)]\n",
    "for i in data.keys():\n",
    "    plt.plot(x,history2[i].history['loss'])    \n",
    "    plt.xlabel('epchos')\n",
    "    plt.ylabel('loss')\n",
    "    plt.legend(i)"
   ]
  },
  {
   "cell_type": "code",
   "execution_count": null,
   "id": "5e1edfb9",
   "metadata": {},
   "outputs": [],
   "source": [
    "for i in data.keys():\n",
    "    plt.plot(x,history2[i].history['accuracy'])\n",
    "    plt.xlabel('epchos')\n",
    "    plt.ylabel('accuracy')     \n",
    "    plt.legend(i)"
   ]
  },
  {
   "cell_type": "code",
   "execution_count": null,
   "id": "4cfb93a1",
   "metadata": {},
   "outputs": [],
   "source": [
    "from tensorflow.keras.models import Model\n",
    "from tensorflow.keras.layers import Dense,GlobalAveragePooling2D\n",
    "from tensorflow.keras.applications import MobileNet\n",
    "from tensorflow.keras.applications.mobilenet import preprocess_input"
   ]
  },
  {
   "cell_type": "code",
   "execution_count": null,
   "id": "cf045aa2",
   "metadata": {},
   "outputs": [],
   "source": [
    "history3={}\n",
    "def train2(i1,x_train1,y_train1):\n",
    "    d=2\n",
    "    if i1=='Apple' or i1=='Corn' or i1=='Grape':\n",
    "        d=4\n",
    "    base_model=MobileNet(weights='imagenet',include_top=False)\n",
    "    x=base_model.output\n",
    "    x=GlobalAveragePooling2D()(x)\n",
    "    x=Dense(1024,activation='relu')(x)\n",
    "    x=Dense(1024,activation='relu')(x)\n",
    "    x=Dense(512,activation='relu')(x)\n",
    "    preds=Dense(d,activation='softmax')(x)\n",
    "    model=Model(inputs=base_model.input,outputs=preds)\n",
    "    for i,layer in enumerate(model.layers):\n",
    "        print(i,layer.name)\n",
    "    model.compile(optimizer='Adam',loss=\"categorical_crossentropy\",metrics=['accuracy'])\n",
    "    print('model for '+i1+':')\n",
    "    history3[i1]=model.fit(x_train1,y_train1,epochs=5)\n",
    "    model.save(i1+'3')\n",
    "    print('---------------------------------------------------------')"
   ]
  },
  {
   "cell_type": "code",
   "execution_count": null,
   "id": "4c27b48a",
   "metadata": {
    "scrolled": true
   },
   "outputs": [],
   "source": [
    "for i in data.keys():\n",
    "    train2(i,x_train[i],y_train[i])  "
   ]
  },
  {
   "cell_type": "code",
   "execution_count": null,
   "id": "e2fd915b",
   "metadata": {},
   "outputs": [],
   "source": [
    "print('accuracy:')\n",
    "for i in data.keys(): \n",
    "    print(i+':'+str(history3[i].history['accuracy']))"
   ]
  },
  {
   "cell_type": "code",
   "execution_count": null,
   "id": "209717b6",
   "metadata": {},
   "outputs": [],
   "source": [
    "print('loss:')\n",
    "for i in data.keys():\n",
    "    print(i+':'+str(history3[i].history['loss'])) "
   ]
  },
  {
   "cell_type": "code",
   "execution_count": null,
   "id": "ec6a6f9a",
   "metadata": {},
   "outputs": [],
   "source": [
    "x=[i for i in range(1,6)]\n",
    "for i in data.keys():\n",
    "    plt.plot(x,history3[i].history['loss'])    \n",
    "    plt.xlabel('epchos')\n",
    "    plt.ylabel('loss')\n",
    "    plt.legend(i)"
   ]
  },
  {
   "cell_type": "code",
   "execution_count": null,
   "id": "611ea55a",
   "metadata": {},
   "outputs": [],
   "source": [
    "for i in data.keys():\n",
    "    plt.plot(x,history3[i].history['accuracy'])\n",
    "    plt.xlabel('epchos')\n",
    "    plt.ylabel('accuracy')     \n",
    "    plt.legend(i)"
   ]
  },
  {
   "cell_type": "code",
   "execution_count": null,
   "id": "b0103893",
   "metadata": {},
   "outputs": [],
   "source": [
    "#resnet 50\n",
    "import tensorflow as tf\n",
    "for i in data.keys():\n",
    "    model = tf.keras.models.load_model(i+'2')\n",
    "    evaluation= model.evaluate(x_test[i],to_categorical(y_test[i]), verbose = 0) \n",
    "    print(f'Model {i}: Loss = {evaluation[0]}, Accuracy = {evaluation[1]}')   "
   ]
  },
  {
   "cell_type": "code",
   "execution_count": null,
   "id": "9db185d5",
   "metadata": {},
   "outputs": [],
   "source": [
    "#mobile net\n",
    "for i in data.keys():\n",
    "    model = tf.keras.models.load_model(i+'3')\n",
    "    evaluation= model.evaluate(x_test[i],to_categorical(y_test[i]), verbose = 0) \n",
    "    print(f'Model {i}: Loss = {evaluation[0]}, Accuracy = {evaluation[1]}') "
   ]
  },
  {
   "cell_type": "code",
   "execution_count": null,
   "id": "65499f54",
   "metadata": {},
   "outputs": [],
   "source": [
    "base_model = ResNet50(weights='imagenet', include_top=False, input_shape=(224, 224, 3))\n",
    "\n",
    "x = base_model.output\n",
    "x = GlobalAveragePooling2D()(x)\n",
    "x = Dense(1024, activation='relu')(x)\n",
    "x = Dense(1024, activation='relu')(x)\n",
    "x = Dense(512, activation='relu')(x)\n",
    "preds = Dense(3, activation='softmax')(x)\n",
    "model = Model(inputs=base_model.input, outputs=preds)\n",
    "\n",
    "for layer in model.layers:\n",
    "    layer.trainable = False\n",
    "\n",
    "for layer in model.layers[-20:]:\n",
    "    layer.trainable = True"
   ]
  },
  {
   "cell_type": "code",
   "execution_count": null,
   "id": "bd03e5bd",
   "metadata": {},
   "outputs": [],
   "source": [
    "model.summary()"
   ]
  },
  {
   "cell_type": "code",
   "execution_count": null,
   "id": "207bba20",
   "metadata": {},
   "outputs": [],
   "source": [
    "visualkeras.layered_view(model)"
   ]
  },
  {
   "cell_type": "code",
   "execution_count": null,
   "id": "a58bd30f",
   "metadata": {
    "scrolled": true
   },
   "outputs": [],
   "source": [
    "base_base_modelmodel=MobileNet(weights='imagenet',include_top=False)\n",
    "x=base_model.output\n",
    "x=GlobalAveragePooling2D()(x)\n",
    "x=Dense(1024,activation='relu')(x)\n",
    "x=Dense(1024,activation='relu')(x)\n",
    "x=Dense(512,activation='relu')(x)\n",
    "preds=Dense(3,activation='softmax')(x)\n",
    "model=Model(inputs=base_model.input,outputs=preds)"
   ]
  },
  {
   "cell_type": "code",
   "execution_count": null,
   "id": "3cff3cc3",
   "metadata": {},
   "outputs": [],
   "source": [
    "model.summary()"
   ]
  }
 ],
 "metadata": {
  "kernelspec": {
   "display_name": "Python 3 (ipykernel)",
   "language": "python",
   "name": "python3"
  },
  "language_info": {
   "codemirror_mode": {
    "name": "ipython",
    "version": 3
   },
   "file_extension": ".py",
   "mimetype": "text/x-python",
   "name": "python",
   "nbconvert_exporter": "python",
   "pygments_lexer": "ipython3",
   "version": "3.11.3"
  }
 },
 "nbformat": 4,
 "nbformat_minor": 5
}
